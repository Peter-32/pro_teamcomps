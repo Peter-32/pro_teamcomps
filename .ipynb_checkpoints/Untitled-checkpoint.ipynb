{
 "cells": [
  {
   "cell_type": "code",
   "execution_count": null,
   "metadata": {},
   "outputs": [],
   "source": [
    "import os\n",
    "import re\n",
    "import scrapy\n",
    "import shutil\n",
    "import scrapy\n",
    "from bs4 import BeautifulSoup\n",
    "from scrapy.crawler import CrawlerProcess\n",
    "\n",
    "try:\n",
    "    shutil.rmtree(\"html\")\n",
    "except:\n",
    "    pass\n",
    "os.mkdir(\"html\")\n",
    "\n",
    "if not os.path.exists(\"../../data/processed\"):\n",
    "    os.mkdir(\"../../data/processed\")\n"
   ]
  },
  {
   "cell_type": "code",
   "execution_count": null,
   "metadata": {},
   "outputs": [],
   "source": []
  },
  {
   "cell_type": "code",
   "execution_count": null,
   "metadata": {},
   "outputs": [],
   "source": [
    "\n",
    "# Customize Spiders\n",
    "class ClassSpider(scrapy.Spider):\n",
    "    name = \"cj\"\n",
    "    start_urls = ['https://leagueoflegends.fandom.com/wiki/Category:Champions_by_class']\n",
    "\n",
    "    def parse(self, response):\n",
    "        next_pages = response.css('#conversant-table a::attr(href)').getall()\n",
    "        next_pages = [\"https://jobs.cj.com\" + x for x in next_pages if \"/jobs/category/\" not in x]\n",
    "        next_pages = list(set(next_pages))\n",
    "        for href in next_pages:\n",
    "            yield response.follow(href, self.parse_new_page)\n",
    "\n",
    "    def parse_new_page(self, response):\n",
    "        page = response.url.split(\"/\")[-2]\n",
    "        filename = 'html/{}_{}.html'.format(self.name, page)\n",
    "        i = 2\n",
    "        while os.path.exists(filename):\n",
    "            filename = \"html/{}_{}_{}.html\".format(self.name, page, str(i).zfill(3))\n",
    "            i += 1\n",
    "        with open(filename, 'wb') as f:\n",
    "            f.write(response.body)\n",
    "        self.log('Saved file {}'.format(filename))"
   ]
  },
  {
   "cell_type": "code",
   "execution_count": null,
   "metadata": {},
   "outputs": [],
   "source": [
    "/wiki/category:"
   ]
  },
  {
   "cell_type": "code",
   "execution_count": null,
   "metadata": {},
   "outputs": [],
   "source": [
    "view-source:https://leagueoflegends.fandom.com/wiki/Category:Artillery_champion"
   ]
  }
 ],
 "metadata": {
  "kernelspec": {
   "display_name": "commons3",
   "language": "python",
   "name": "commons3"
  },
  "language_info": {
   "codemirror_mode": {
    "name": "ipython",
    "version": 3
   },
   "file_extension": ".py",
   "mimetype": "text/x-python",
   "name": "python",
   "nbconvert_exporter": "python",
   "pygments_lexer": "ipython3",
   "version": "3.8.5"
  }
 },
 "nbformat": 4,
 "nbformat_minor": 4
}
