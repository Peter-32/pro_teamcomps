{
 "cells": [
  {
   "cell_type": "code",
   "execution_count": 65,
   "metadata": {},
   "outputs": [],
   "source": [
    "import os\n",
    "import re\n",
    "import scrapy\n",
    "import shutil\n",
    "import scrapy\n",
    "from bs4 import BeautifulSoup\n",
    "from scrapy.crawler import CrawlerProcess\n",
    "import requests\n",
    "from urllib.parse import unquote\n",
    "from time import sleep\n",
    "import pandas as pd\n",
    "from glob import glob\n"
   ]
  },
  {
   "cell_type": "code",
   "execution_count": 19,
   "metadata": {},
   "outputs": [],
   "source": [
    "url_id = 33878\n",
    "urls = []\n",
    "for i in range(100):\n",
    "    url_id -= 1\n",
    "    url = f\"https://gol.gg/game/stats/{url_id}/page-game/\"\n",
    "    # print(url)\n",
    "    urls.append(url)\n"
   ]
  },
  {
   "cell_type": "code",
   "execution_count": 20,
   "metadata": {},
   "outputs": [
    {
     "data": {
      "text/plain": [
       "' too many requests. Try again in a few minutes.'"
      ]
     },
     "execution_count": 20,
     "metadata": {},
     "output_type": "execute_result"
    }
   ],
   "source": [
    "# r = requests.get(url)\n",
    "# r.text\n"
   ]
  },
  {
   "cell_type": "code",
   "execution_count": 23,
   "metadata": {},
   "outputs": [],
   "source": [
    "import webbrowser\n",
    "import pyperclip as clip\n",
    "current_urls = urls[0:1]\n",
    "for url in current_urls:\n",
    "    webbrowser.get('open -a /Applications/Google\\ Chrome.app %s').open(str(url))\n"
   ]
  },
  {
   "cell_type": "code",
   "execution_count": 18,
   "metadata": {},
   "outputs": [
    {
     "data": {
      "text/plain": [
       "False"
      ]
     },
     "execution_count": 18,
     "metadata": {},
     "output_type": "execute_result"
    }
   ],
   "source": [
    "webbrowser.get('open -a /Applications/Google\\ Chrome.app %s').open(url)"
   ]
  },
  {
   "cell_type": "markdown",
   "metadata": {},
   "source": [
    "### Analyzing HTML"
   ]
  },
  {
   "cell_type": "code",
   "execution_count": 56,
   "metadata": {},
   "outputs": [
    {
     "data": {
      "text/plain": [
       "6"
      ]
     },
     "execution_count": 56,
     "metadata": {},
     "output_type": "execute_result"
    }
   ],
   "source": [
    "categories = pd.read_csv(\"categories.csv\")\n",
    "categories_lookup = categories.set_index(\"champion\").to_dict()['class']\n",
    "categories_lookup['Ziggs']\n"
   ]
  },
  {
   "cell_type": "code",
   "execution_count": 69,
   "metadata": {},
   "outputs": [
    {
     "data": {
      "text/html": [
       "<div>\n",
       "<style scoped>\n",
       "    .dataframe tbody tr th:only-of-type {\n",
       "        vertical-align: middle;\n",
       "    }\n",
       "\n",
       "    .dataframe tbody tr th {\n",
       "        vertical-align: top;\n",
       "    }\n",
       "\n",
       "    .dataframe thead th {\n",
       "        text-align: right;\n",
       "    }\n",
       "</style>\n",
       "<table border=\"1\" class=\"dataframe\">\n",
       "  <thead>\n",
       "    <tr style=\"text-align: right;\">\n",
       "      <th></th>\n",
       "      <th>team</th>\n",
       "      <th>role</th>\n",
       "    </tr>\n",
       "  </thead>\n",
       "  <tbody>\n",
       "    <tr>\n",
       "      <th>0</th>\n",
       "      <td>1</td>\n",
       "      <td>9</td>\n",
       "    </tr>\n",
       "    <tr>\n",
       "      <th>1</th>\n",
       "      <td>1</td>\n",
       "      <td>6</td>\n",
       "    </tr>\n",
       "    <tr>\n",
       "      <th>2</th>\n",
       "      <td>1</td>\n",
       "      <td>2</td>\n",
       "    </tr>\n",
       "    <tr>\n",
       "      <th>3</th>\n",
       "      <td>1</td>\n",
       "      <td>5</td>\n",
       "    </tr>\n",
       "    <tr>\n",
       "      <th>4</th>\n",
       "      <td>1</td>\n",
       "      <td>8</td>\n",
       "    </tr>\n",
       "    <tr>\n",
       "      <th>...</th>\n",
       "      <td>...</td>\n",
       "      <td>...</td>\n",
       "    </tr>\n",
       "    <tr>\n",
       "      <th>485</th>\n",
       "      <td>98</td>\n",
       "      <td>9</td>\n",
       "    </tr>\n",
       "    <tr>\n",
       "      <th>486</th>\n",
       "      <td>98</td>\n",
       "      <td>3</td>\n",
       "    </tr>\n",
       "    <tr>\n",
       "      <th>487</th>\n",
       "      <td>98</td>\n",
       "      <td>10</td>\n",
       "    </tr>\n",
       "    <tr>\n",
       "      <th>488</th>\n",
       "      <td>98</td>\n",
       "      <td>6</td>\n",
       "    </tr>\n",
       "    <tr>\n",
       "      <th>489</th>\n",
       "      <td>98</td>\n",
       "      <td>1</td>\n",
       "    </tr>\n",
       "  </tbody>\n",
       "</table>\n",
       "<p>490 rows × 2 columns</p>\n",
       "</div>"
      ],
      "text/plain": [
       "     team  role\n",
       "0       1     9\n",
       "1       1     6\n",
       "2       1     2\n",
       "3       1     5\n",
       "4       1     8\n",
       "..    ...   ...\n",
       "485    98     9\n",
       "486    98     3\n",
       "487    98    10\n",
       "488    98     6\n",
       "489    98     1\n",
       "\n",
       "[490 rows x 2 columns]"
      ]
     },
     "execution_count": 69,
     "metadata": {},
     "output_type": "execute_result"
    }
   ],
   "source": [
    "def modify_champion(champion):\n",
    "    if champion == \"Kaisa\":\n",
    "        champion = \"Kai'Sa\"\n",
    "    if champion == \"KhaZix\":\n",
    "        champion = \"Kha'Zix\"\n",
    "    return champion\n",
    "\n",
    "team_id = 0\n",
    "teams = []\n",
    "roles = []\n",
    "\n",
    "for filename in glob(\"html/*\"):\n",
    "    with open(filename) as f:\n",
    "        text = f.read()\n",
    "    first_regex = re.findall(\">Picks<(.*?)</div>\", text.replace(\"\\n\", \" \"))\n",
    "    team1 = first_regex[0]\n",
    "    team2 = first_regex[1]\n",
    "    team1 = [x.split(\" stats'>\")[0] for x in team1.split(\"title=\\'\")[1:]]\n",
    "    team2 = [x.split(\" stats'>\")[0] for x in team2.split(\"title=\\'\")[1:]]\n",
    "\n",
    "    team_id += 1\n",
    "    for champion in team1:\n",
    "        champion = modify_champion(champion)\n",
    "        teams.append(team_id)\n",
    "        role = categories_lookup[champion.replace(\" \", \"_\")]\n",
    "        roles.append(role)\n",
    "    team_id += 1\n",
    "    for champion in team2:\n",
    "\n",
    "        champion = modify_champion(champion)\n",
    "        teams.append(team_id)\n",
    "        role = categories_lookup[champion.replace(\" \", \"_\")]\n",
    "        roles.append(role)    \n",
    "df = pd.DataFrame()\n",
    "df['team'] = teams\n",
    "df['role'] = roles\n",
    "df\n"
   ]
  },
  {
   "cell_type": "code",
   "execution_count": 70,
   "metadata": {},
   "outputs": [],
   "source": [
    "df.to_csv(\"final_output.csv\", index=False)\n"
   ]
  },
  {
   "cell_type": "code",
   "execution_count": null,
   "metadata": {},
   "outputs": [],
   "source": []
  }
 ],
 "metadata": {
  "kernelspec": {
   "display_name": "commons3",
   "language": "python",
   "name": "commons3"
  },
  "language_info": {
   "codemirror_mode": {
    "name": "ipython",
    "version": 3
   },
   "file_extension": ".py",
   "mimetype": "text/x-python",
   "name": "python",
   "nbconvert_exporter": "python",
   "pygments_lexer": "ipython3",
   "version": "3.8.5"
  }
 },
 "nbformat": 4,
 "nbformat_minor": 4
}
